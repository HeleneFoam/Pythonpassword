{
 "cells": [
  {
   "cell_type": "code",
   "execution_count": 16,
   "metadata": {},
   "outputs": [
    {
     "name": "stdout",
     "output_type": "stream",
     "text": [
      "Password is too short, please try again\n"
     ]
    }
   ],
   "source": [
    "\n",
    "#Passwor requirements\n",
    "#1. At least 8 characters\n",
    "#2. At least 1 Upper letter\n",
    "#3. At least 1 Lower letter\n",
    "#4. At least 1 Number\n",
    "#5. At least 1 Special Character\n",
    "\n",
    "\n",
    "password = input(\"Enter your password: \")\n",
    "x = True\n",
    "while x: \n",
    "    if len(password)<8:\n",
    "        print(\"Password is too short, please try again\")\n",
    "        flag = 1\n",
    "        break\n",
    "    elif not any(char.isdigit() for char in password):\n",
    "        print(\"Password must contain at least one digit, please try again\")\n",
    "        flag = 1\n",
    "        break\n",
    "    elif not any(char.isupper() for char in password):\n",
    "        print(\"Password must contain at least one uppercase letter, please try again\")\n",
    "        flag = 1\n",
    "        break\n",
    "    elif not any(char.islower() for char in password):\n",
    "        print(\"Password must contain at least one lowercase letter, please try again\")\n",
    "        flag = 1\n",
    "        break\n",
    "    elif not any(char in '!@#$%^&*()' for char in password):\n",
    "        print(\"Password must contain at least one special character, please try again\")\n",
    "        flag = 1\n",
    "        break\n",
    "    else:\n",
    "        print(\"Password is strong\")\n",
    "        flag = 0\n",
    "        break\n",
    "\n",
    "    \n",
    "  "
   ]
  },
  {
   "cell_type": "markdown",
   "metadata": {},
   "source": []
  }
 ],
 "metadata": {
  "interpreter": {
   "hash": "369f2c481f4da34e4445cda3fffd2e751bd1c4d706f27375911949ba6bb62e1c"
  },
  "kernelspec": {
   "display_name": "Python 3.10.4 64-bit",
   "language": "python",
   "name": "python3"
  },
  "language_info": {
   "codemirror_mode": {
    "name": "ipython",
    "version": 3
   },
   "file_extension": ".py",
   "mimetype": "text/x-python",
   "name": "python",
   "nbconvert_exporter": "python",
   "pygments_lexer": "ipython3",
   "version": "3.10.4"
  },
  "orig_nbformat": 4
 },
 "nbformat": 4,
 "nbformat_minor": 2
}
